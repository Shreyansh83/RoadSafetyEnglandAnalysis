{
 "cells": [
  {
   "cell_type": "code",
   "execution_count": 178,
   "id": "48058c85",
   "metadata": {},
   "outputs": [],
   "source": [
    "def fuple(L):\n",
    "    for i, x in enumerate(L):\n",
    "        L[i] = sum(L[:i+1])\n",
    "    return L"
   ]
  },
  {
   "cell_type": "code",
   "execution_count": 179,
   "id": "1aa40ce5",
   "metadata": {},
   "outputs": [
    {
     "data": {
      "text/plain": [
       "[3, 7, 15, 31]"
      ]
     },
     "execution_count": 179,
     "metadata": {},
     "output_type": "execute_result"
    }
   ],
   "source": [
    "fuple([3,4,5,6])"
   ]
  },
  {
   "cell_type": "code",
   "execution_count": null,
   "id": "141f5993",
   "metadata": {},
   "outputs": [],
   "source": [
    "[3,7,15,31] "
   ]
  },
  {
   "cell_type": "code",
   "execution_count": null,
   "id": "eb9a4fff",
   "metadata": {},
   "outputs": [],
   "source": []
  },
  {
   "cell_type": "code",
   "execution_count": 193,
   "id": "d7361406",
   "metadata": {},
   "outputs": [
    {
     "name": "stdout",
     "output_type": "stream",
     "text": [
      "5\n",
      "3\n",
      "4\n",
      "3\n",
      "5\n",
      "5\n",
      "5\n",
      "6\n",
      "5\n",
      "5\n",
      "6\n",
      "5\n",
      "4\n",
      "5\n",
      "4\n",
      "4\n",
      "5\n",
      "5\n",
      "5\n",
      "4\n"
     ]
    }
   ],
   "source": [
    "import random\n",
    "avg=0\n",
    "#x = sum( [random.randint(1,6) for _ in range(3)] ) \n",
    "for i in range(20):\n",
    "    x = sum( [random.randint(1,2) for _ in range(3)] ) \n"
   ]
  },
  {
   "cell_type": "code",
   "execution_count": null,
   "id": "0da40fc6",
   "metadata": {},
   "outputs": [],
   "source": []
  },
  {
   "cell_type": "code",
   "execution_count": 194,
   "id": "fc0652eb",
   "metadata": {},
   "outputs": [],
   "source": [
    "def listify(s):\n",
    "    s1 = s.split('::')\n",
    "    s2 = [x.split(':') for x in s1]\n",
    "    return s2"
   ]
  },
  {
   "cell_type": "code",
   "execution_count": 195,
   "id": "eb916e0d",
   "metadata": {},
   "outputs": [
    {
     "data": {
      "text/plain": [
       "[['the', 'answer', 'is'], ['this', 'and', 'that'], ['and'], ['the', 'other']]"
      ]
     },
     "execution_count": 195,
     "metadata": {},
     "output_type": "execute_result"
    }
   ],
   "source": [
    "listify(\"the:answer:is::this:and:that::and::the:other\")"
   ]
  },
  {
   "cell_type": "code",
   "execution_count": null,
   "id": "d1936e22",
   "metadata": {},
   "outputs": [],
   "source": []
  },
  {
   "cell_type": "code",
   "execution_count": 7,
   "id": "2858c98f",
   "metadata": {},
   "outputs": [
    {
     "name": "stdout",
     "output_type": "stream",
     "text": [
      "<function f3 at 0x0000014978B29C10>\n",
      "513\n"
     ]
    }
   ],
   "source": [
    "import random\n",
    "\n",
    "def f1(x):\n",
    "    return 2*x\n",
    "\n",
    "def f2(x):\n",
    "    return x**2 + 1\n",
    "\n",
    "def f3(x):\n",
    "    return 2**x + 1\n",
    "\n",
    "def f4(x):\n",
    "    return x**3 + 3\n",
    "\n",
    "def ranf(n):\n",
    "    if not type(n) == int:\n",
    "        return False\n",
    "    r = random.randint(0,3)\n",
    "    random_function = [f1,f2,f3,f4][r]\n",
    "    print (random_function)\n",
    "    return random_function(n)\n",
    "    \n",
    "RANDOM = random.randint(1,1000)\n",
    "print(ranf(9))"
   ]
  },
  {
   "cell_type": "code",
   "execution_count": 8,
   "id": "819204b3",
   "metadata": {},
   "outputs": [],
   "source": [
    "def xyx( s ):\n",
    "    return len(s) < 2 or ( s[0] == s[-1] and xyx( s[1: -1] ) ) \n",
    "\n",
    "def xyz_key(n):\n",
    "    s = str(n)\n",
    "    l = len(s)\n",
    "    if xyx(s) and l%2==0:\n",
    "        return s[:int(l/2)]\n",
    "    return False"
   ]
  },
  {
   "cell_type": "code",
   "execution_count": 224,
   "id": "0e20d1ae",
   "metadata": {},
   "outputs": [
    {
     "data": {
      "text/plain": [
       "'1235791'"
      ]
     },
     "execution_count": 224,
     "metadata": {},
     "output_type": "execute_result"
    }
   ],
   "source": [
    "xyz_key(12357911975321)"
   ]
  },
  {
   "cell_type": "code",
   "execution_count": null,
   "id": "2cee09f4",
   "metadata": {},
   "outputs": [],
   "source": [
    "1235791"
   ]
  },
  {
   "cell_type": "code",
   "execution_count": 232,
   "id": "c78e6ded",
   "metadata": {},
   "outputs": [],
   "source": [
    "def encode(n):\n",
    "    L1 = [ ord('9')-ord(c) for c in str(n)]\n",
    "    L2 = [str(x) for x in L1]\n",
    "    return int(''.join(L2) )"
   ]
  },
  {
   "cell_type": "code",
   "execution_count": 233,
   "id": "e3e3f642",
   "metadata": {},
   "outputs": [
    {
     "data": {
      "text/plain": [
       "11675423012856"
      ]
     },
     "execution_count": 233,
     "metadata": {},
     "output_type": "execute_result"
    }
   ],
   "source": [
    "encode(88324576987143)\n"
   ]
  },
  {
   "cell_type": "code",
   "execution_count": 10,
   "id": "df5fa571",
   "metadata": {},
   "outputs": [],
   "source": [
    "def geekify(n):\n",
    "    i=1\n",
    "    S=set()\n",
    "    while True:\n",
    "        i += 1\n",
    "        S.add(i)\n",
    "        for j in range(2, (i//2) + 1):\n",
    "            if i%j == 0:\n",
    "                S = S - {i}\n",
    "        if len(S) >= n:\n",
    "            break\n",
    "    return sum(S)"
   ]
  },
  {
   "cell_type": "code",
   "execution_count": 11,
   "id": "6e3060a0",
   "metadata": {},
   "outputs": [
    {
     "data": {
      "text/plain": [
       "1593"
      ]
     },
     "execution_count": 11,
     "metadata": {},
     "output_type": "execute_result"
    }
   ],
   "source": [
    "geekify(30)"
   ]
  },
  {
   "cell_type": "code",
   "execution_count": null,
   "id": "d854ee1b",
   "metadata": {},
   "outputs": [],
   "source": []
  }
 ],
 "metadata": {
  "kernelspec": {
   "display_name": "Python 3 (ipykernel)",
   "language": "python",
   "name": "python3"
  },
  "language_info": {
   "codemirror_mode": {
    "name": "ipython",
    "version": 3
   },
   "file_extension": ".py",
   "mimetype": "text/x-python",
   "name": "python",
   "nbconvert_exporter": "python",
   "pygments_lexer": "ipython3",
   "version": "3.9.7"
  }
 },
 "nbformat": 4,
 "nbformat_minor": 5
}
